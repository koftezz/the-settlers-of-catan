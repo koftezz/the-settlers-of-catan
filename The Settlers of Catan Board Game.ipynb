{
 "cells": [
  {
   "cell_type": "markdown",
   "id": "94266b27-c7ff-4977-b587-ee53b0df8706",
   "metadata": {},
   "source": [
    "# The Settlers of Catan Scoring"
   ]
  },
  {
   "cell_type": "code",
   "execution_count": 1,
   "id": "74ba58c6-f3a5-4fdc-934b-af55c0df72fb",
   "metadata": {},
   "outputs": [],
   "source": [
    "import pandas as pd\n",
    "import numpy as np\n",
    "import copy\n",
    "import matplotlib.pyplot as plt\n",
    "import seaborn as sns\n",
    "\n",
    "import warnings\n",
    "warnings.filterwarnings(\"ignore\")"
   ]
  },
  {
   "cell_type": "code",
   "execution_count": 2,
   "id": "40a2b87d-4579-4692-829d-eb436f25c047",
   "metadata": {},
   "outputs": [],
   "source": [
    "raw_scores = pd.read_excel('catan-8.xlsx', parse_dates=[0])"
   ]
  },
  {
   "cell_type": "code",
   "execution_count": 3,
   "id": "6a495010",
   "metadata": {},
   "outputs": [
    {
     "data": {
      "text/html": [
       "<div>\n",
       "<style scoped>\n",
       "    .dataframe tbody tr th:only-of-type {\n",
       "        vertical-align: middle;\n",
       "    }\n",
       "\n",
       "    .dataframe tbody tr th {\n",
       "        vertical-align: top;\n",
       "    }\n",
       "\n",
       "    .dataframe thead th {\n",
       "        text-align: right;\n",
       "    }\n",
       "</style>\n",
       "<table border=\"1\" class=\"dataframe\">\n",
       "  <thead>\n",
       "    <tr style=\"text-align: right;\">\n",
       "      <th></th>\n",
       "      <th>Oyun No</th>\n",
       "      <th>Tarih</th>\n",
       "      <th>Asıl oyuncu</th>\n",
       "      <th>Sıra</th>\n",
       "      <th>Yedek oyuncu</th>\n",
       "      <th>Kazanan</th>\n",
       "      <th>Puan</th>\n",
       "      <th>Renk</th>\n",
       "      <th>Şehir Sayısı</th>\n",
       "      <th>Köy Sayısı</th>\n",
       "      <th>...</th>\n",
       "      <th>İlk 2-1 Koyun Liman</th>\n",
       "      <th>İlk 2-1 Odun Liman</th>\n",
       "      <th>İlk 3-1 Liman</th>\n",
       "      <th>2-1 Tuğla</th>\n",
       "      <th>2-1 Saman</th>\n",
       "      <th>2022-03-01 00:00:00</th>\n",
       "      <th>2-1 Odun</th>\n",
       "      <th>2-1 Kaya</th>\n",
       "      <th>2-1 Koyun</th>\n",
       "      <th>Zar</th>\n",
       "    </tr>\n",
       "  </thead>\n",
       "  <tbody>\n",
       "    <tr>\n",
       "      <th>0</th>\n",
       "      <td>1.0</td>\n",
       "      <td>2022-02-22</td>\n",
       "      <td>Batuhan</td>\n",
       "      <td>1.0</td>\n",
       "      <td>NaN</td>\n",
       "      <td>Alperen</td>\n",
       "      <td>7.0</td>\n",
       "      <td>Mavi</td>\n",
       "      <td>2.0</td>\n",
       "      <td>2.0</td>\n",
       "      <td>...</td>\n",
       "      <td>NaN</td>\n",
       "      <td>NaN</td>\n",
       "      <td>NaN</td>\n",
       "      <td>NaN</td>\n",
       "      <td>NaN</td>\n",
       "      <td>NaN</td>\n",
       "      <td>NaN</td>\n",
       "      <td>NaN</td>\n",
       "      <td>NaN</td>\n",
       "      <td>NaN</td>\n",
       "    </tr>\n",
       "    <tr>\n",
       "      <th>1</th>\n",
       "      <td>1.0</td>\n",
       "      <td>2022-02-22</td>\n",
       "      <td>Alperen</td>\n",
       "      <td>2.0</td>\n",
       "      <td>NaN</td>\n",
       "      <td>Alperen</td>\n",
       "      <td>10.0</td>\n",
       "      <td>Beyaz</td>\n",
       "      <td>5.0</td>\n",
       "      <td>0.0</td>\n",
       "      <td>...</td>\n",
       "      <td>NaN</td>\n",
       "      <td>NaN</td>\n",
       "      <td>NaN</td>\n",
       "      <td>NaN</td>\n",
       "      <td>NaN</td>\n",
       "      <td>NaN</td>\n",
       "      <td>NaN</td>\n",
       "      <td>NaN</td>\n",
       "      <td>NaN</td>\n",
       "      <td>NaN</td>\n",
       "    </tr>\n",
       "    <tr>\n",
       "      <th>2</th>\n",
       "      <td>1.0</td>\n",
       "      <td>2022-02-22</td>\n",
       "      <td>Volkan</td>\n",
       "      <td>4.0</td>\n",
       "      <td>Çağatay</td>\n",
       "      <td>Alperen</td>\n",
       "      <td>8.0</td>\n",
       "      <td>Kırmızı</td>\n",
       "      <td>2.0</td>\n",
       "      <td>3.0</td>\n",
       "      <td>...</td>\n",
       "      <td>NaN</td>\n",
       "      <td>NaN</td>\n",
       "      <td>NaN</td>\n",
       "      <td>NaN</td>\n",
       "      <td>NaN</td>\n",
       "      <td>NaN</td>\n",
       "      <td>NaN</td>\n",
       "      <td>NaN</td>\n",
       "      <td>NaN</td>\n",
       "      <td>NaN</td>\n",
       "    </tr>\n",
       "    <tr>\n",
       "      <th>3</th>\n",
       "      <td>1.0</td>\n",
       "      <td>2022-02-22</td>\n",
       "      <td>Melis</td>\n",
       "      <td>3.0</td>\n",
       "      <td>Ecem</td>\n",
       "      <td>Alperen</td>\n",
       "      <td>7.0</td>\n",
       "      <td>Turuncu</td>\n",
       "      <td>2.0</td>\n",
       "      <td>1.0</td>\n",
       "      <td>...</td>\n",
       "      <td>NaN</td>\n",
       "      <td>NaN</td>\n",
       "      <td>NaN</td>\n",
       "      <td>NaN</td>\n",
       "      <td>NaN</td>\n",
       "      <td>NaN</td>\n",
       "      <td>NaN</td>\n",
       "      <td>NaN</td>\n",
       "      <td>NaN</td>\n",
       "      <td>NaN</td>\n",
       "    </tr>\n",
       "    <tr>\n",
       "      <th>4</th>\n",
       "      <td>2.0</td>\n",
       "      <td>2022-03-06</td>\n",
       "      <td>Alperen</td>\n",
       "      <td>2.0</td>\n",
       "      <td>NaN</td>\n",
       "      <td>Çağatay</td>\n",
       "      <td>5.0</td>\n",
       "      <td>Beyaz</td>\n",
       "      <td>2.0</td>\n",
       "      <td>1.0</td>\n",
       "      <td>...</td>\n",
       "      <td>NaN</td>\n",
       "      <td>NaN</td>\n",
       "      <td>NaN</td>\n",
       "      <td>NaN</td>\n",
       "      <td>NaN</td>\n",
       "      <td>NaN</td>\n",
       "      <td>NaN</td>\n",
       "      <td>NaN</td>\n",
       "      <td>NaN</td>\n",
       "      <td>NaN</td>\n",
       "    </tr>\n",
       "    <tr>\n",
       "      <th>...</th>\n",
       "      <td>...</td>\n",
       "      <td>...</td>\n",
       "      <td>...</td>\n",
       "      <td>...</td>\n",
       "      <td>...</td>\n",
       "      <td>...</td>\n",
       "      <td>...</td>\n",
       "      <td>...</td>\n",
       "      <td>...</td>\n",
       "      <td>...</td>\n",
       "      <td>...</td>\n",
       "      <td>...</td>\n",
       "      <td>...</td>\n",
       "      <td>...</td>\n",
       "      <td>...</td>\n",
       "      <td>...</td>\n",
       "      <td>...</td>\n",
       "      <td>...</td>\n",
       "      <td>...</td>\n",
       "      <td>...</td>\n",
       "      <td>...</td>\n",
       "    </tr>\n",
       "    <tr>\n",
       "      <th>129</th>\n",
       "      <td>33.0</td>\n",
       "      <td>2022-05-12</td>\n",
       "      <td>Batuhan</td>\n",
       "      <td>3.0</td>\n",
       "      <td>NaN</td>\n",
       "      <td>Batuhan</td>\n",
       "      <td>10.0</td>\n",
       "      <td>Mavi</td>\n",
       "      <td>3.0</td>\n",
       "      <td>0.0</td>\n",
       "      <td>...</td>\n",
       "      <td>0.0</td>\n",
       "      <td>0.0</td>\n",
       "      <td>0.0</td>\n",
       "      <td>0.0</td>\n",
       "      <td>0.0</td>\n",
       "      <td>0.0</td>\n",
       "      <td>0.0</td>\n",
       "      <td>0.0</td>\n",
       "      <td>0.0</td>\n",
       "      <td>3, 6, 4, 9, 10, 5</td>\n",
       "    </tr>\n",
       "    <tr>\n",
       "      <th>130</th>\n",
       "      <td>34.0</td>\n",
       "      <td>2022-05-22</td>\n",
       "      <td>Ecem</td>\n",
       "      <td>3.0</td>\n",
       "      <td>NaN</td>\n",
       "      <td>Batuhan</td>\n",
       "      <td>7.0</td>\n",
       "      <td>Beyaz</td>\n",
       "      <td>3.0</td>\n",
       "      <td>1.0</td>\n",
       "      <td>...</td>\n",
       "      <td>0.0</td>\n",
       "      <td>0.0</td>\n",
       "      <td>0.0</td>\n",
       "      <td>1.0</td>\n",
       "      <td>0.0</td>\n",
       "      <td>0.0</td>\n",
       "      <td>1.0</td>\n",
       "      <td>0.0</td>\n",
       "      <td>0.0</td>\n",
       "      <td>4, 3, 6, 5, 10, 8</td>\n",
       "    </tr>\n",
       "    <tr>\n",
       "      <th>131</th>\n",
       "      <td>34.0</td>\n",
       "      <td>2022-05-22</td>\n",
       "      <td>Çağatay</td>\n",
       "      <td>1.0</td>\n",
       "      <td>NaN</td>\n",
       "      <td>Batuhan</td>\n",
       "      <td>9.0</td>\n",
       "      <td>Kırmızı</td>\n",
       "      <td>0.0</td>\n",
       "      <td>5.0</td>\n",
       "      <td>...</td>\n",
       "      <td>0.0</td>\n",
       "      <td>0.0</td>\n",
       "      <td>0.0</td>\n",
       "      <td>0.0</td>\n",
       "      <td>0.0</td>\n",
       "      <td>1.0</td>\n",
       "      <td>0.0</td>\n",
       "      <td>0.0</td>\n",
       "      <td>0.0</td>\n",
       "      <td>5, 6, 11, 10, 8</td>\n",
       "    </tr>\n",
       "    <tr>\n",
       "      <th>132</th>\n",
       "      <td>34.0</td>\n",
       "      <td>2022-05-22</td>\n",
       "      <td>Melis</td>\n",
       "      <td>2.0</td>\n",
       "      <td>NaN</td>\n",
       "      <td>Batuhan</td>\n",
       "      <td>5.0</td>\n",
       "      <td>Turuncu</td>\n",
       "      <td>1.0</td>\n",
       "      <td>3.0</td>\n",
       "      <td>...</td>\n",
       "      <td>0.0</td>\n",
       "      <td>0.0</td>\n",
       "      <td>0.0</td>\n",
       "      <td>0.0</td>\n",
       "      <td>1.0</td>\n",
       "      <td>1.0</td>\n",
       "      <td>0.0</td>\n",
       "      <td>0.0</td>\n",
       "      <td>0.0</td>\n",
       "      <td>5, 9, 10, 3, 11, 12</td>\n",
       "    </tr>\n",
       "    <tr>\n",
       "      <th>133</th>\n",
       "      <td>34.0</td>\n",
       "      <td>2022-05-22</td>\n",
       "      <td>Batuhan</td>\n",
       "      <td>4.0</td>\n",
       "      <td>NaN</td>\n",
       "      <td>Batuhan</td>\n",
       "      <td>10.0</td>\n",
       "      <td>Mavi</td>\n",
       "      <td>4.0</td>\n",
       "      <td>0.0</td>\n",
       "      <td>...</td>\n",
       "      <td>0.0</td>\n",
       "      <td>0.0</td>\n",
       "      <td>0.0</td>\n",
       "      <td>0.0</td>\n",
       "      <td>0.0</td>\n",
       "      <td>1.0</td>\n",
       "      <td>0.0</td>\n",
       "      <td>0.0</td>\n",
       "      <td>0.0</td>\n",
       "      <td>4, 9, 11, 9, 10, 6</td>\n",
       "    </tr>\n",
       "  </tbody>\n",
       "</table>\n",
       "<p>134 rows × 36 columns</p>\n",
       "</div>"
      ],
      "text/plain": [
       "     Oyun No      Tarih Asıl oyuncu  Sıra Yedek oyuncu  Kazanan  Puan  \\\n",
       "0        1.0 2022-02-22     Batuhan   1.0          NaN  Alperen   7.0   \n",
       "1        1.0 2022-02-22     Alperen   2.0          NaN  Alperen  10.0   \n",
       "2        1.0 2022-02-22      Volkan   4.0      Çağatay  Alperen   8.0   \n",
       "3        1.0 2022-02-22       Melis   3.0         Ecem  Alperen   7.0   \n",
       "4        2.0 2022-03-06     Alperen   2.0          NaN  Çağatay   5.0   \n",
       "..       ...        ...         ...   ...          ...      ...   ...   \n",
       "129     33.0 2022-05-12     Batuhan   3.0          NaN  Batuhan  10.0   \n",
       "130     34.0 2022-05-22        Ecem   3.0          NaN  Batuhan   7.0   \n",
       "131     34.0 2022-05-22     Çağatay   1.0          NaN  Batuhan   9.0   \n",
       "132     34.0 2022-05-22       Melis   2.0          NaN  Batuhan   5.0   \n",
       "133     34.0 2022-05-22     Batuhan   4.0          NaN  Batuhan  10.0   \n",
       "\n",
       "        Renk  Şehir Sayısı  Köy Sayısı  ...  İlk 2-1 Koyun Liman  \\\n",
       "0       Mavi           2.0         2.0  ...                  NaN   \n",
       "1      Beyaz           5.0         0.0  ...                  NaN   \n",
       "2    Kırmızı           2.0         3.0  ...                  NaN   \n",
       "3    Turuncu           2.0         1.0  ...                  NaN   \n",
       "4      Beyaz           2.0         1.0  ...                  NaN   \n",
       "..       ...           ...         ...  ...                  ...   \n",
       "129     Mavi           3.0         0.0  ...                  0.0   \n",
       "130    Beyaz           3.0         1.0  ...                  0.0   \n",
       "131  Kırmızı           0.0         5.0  ...                  0.0   \n",
       "132  Turuncu           1.0         3.0  ...                  0.0   \n",
       "133     Mavi           4.0         0.0  ...                  0.0   \n",
       "\n",
       "     İlk 2-1 Odun Liman  İlk 3-1 Liman  2-1 Tuğla  2-1 Saman  \\\n",
       "0                   NaN            NaN        NaN        NaN   \n",
       "1                   NaN            NaN        NaN        NaN   \n",
       "2                   NaN            NaN        NaN        NaN   \n",
       "3                   NaN            NaN        NaN        NaN   \n",
       "4                   NaN            NaN        NaN        NaN   \n",
       "..                  ...            ...        ...        ...   \n",
       "129                 0.0            0.0        0.0        0.0   \n",
       "130                 0.0            0.0        1.0        0.0   \n",
       "131                 0.0            0.0        0.0        0.0   \n",
       "132                 0.0            0.0        0.0        1.0   \n",
       "133                 0.0            0.0        0.0        0.0   \n",
       "\n",
       "     2022-03-01 00:00:00 2-1 Odun  2-1 Kaya  2-1 Koyun                  Zar  \n",
       "0                    NaN      NaN       NaN        NaN                  NaN  \n",
       "1                    NaN      NaN       NaN        NaN                  NaN  \n",
       "2                    NaN      NaN       NaN        NaN                  NaN  \n",
       "3                    NaN      NaN       NaN        NaN                  NaN  \n",
       "4                    NaN      NaN       NaN        NaN                  NaN  \n",
       "..                   ...      ...       ...        ...                  ...  \n",
       "129                  0.0      0.0       0.0        0.0    3, 6, 4, 9, 10, 5  \n",
       "130                  0.0      1.0       0.0        0.0    4, 3, 6, 5, 10, 8  \n",
       "131                  1.0      0.0       0.0        0.0      5, 6, 11, 10, 8  \n",
       "132                  1.0      0.0       0.0        0.0  5, 9, 10, 3, 11, 12  \n",
       "133                  1.0      0.0       0.0        0.0   4, 9, 11, 9, 10, 6  \n",
       "\n",
       "[134 rows x 36 columns]"
      ]
     },
     "execution_count": 3,
     "metadata": {},
     "output_type": "execute_result"
    }
   ],
   "source": [
    "raw_scores"
   ]
  },
  {
   "cell_type": "code",
   "execution_count": 4,
   "id": "e3fff5fb",
   "metadata": {},
   "outputs": [],
   "source": [
    "raw_scores[\"player_count\"] = raw_scores.groupby(\"Oyun No\")[\"Sıra\"].transform('max')\n",
    "raw_scores[\"avg_time_per_player\"] = raw_scores[\"Süre\"] / raw_scores[\"player_count\"]"
   ]
  },
  {
   "cell_type": "code",
   "execution_count": 5,
   "id": "7c486946",
   "metadata": {},
   "outputs": [],
   "source": [
    "time_col = \"Süre\"\n",
    "volkan = raw_scores.loc[(raw_scores[\"Asıl oyuncu\"] == \"Volkan\") | (raw_scores[\"Yedek oyuncu\"] == \"Volkan\")][\"Oyun No\"].unique()\n",
    "avg_volkan_time = (raw_scores.loc[raw_scores[\"Oyun No\"].isin(volkan)].groupby(\"Oyun No\")[time_col].max().sum()/60)\\\n",
    "      /(raw_scores.loc[raw_scores[\"Oyun No\"].isin(volkan)][\"Oyun No\"].nunique())\n",
    "avg_wo_volkan_time = (raw_scores.loc[~raw_scores[\"Oyun No\"].isin(volkan)].groupby(\"Oyun No\")[time_col].max().sum()/60) \\\n",
    "      /(raw_scores.loc[~raw_scores[\"Oyun No\"].isin(volkan)][\"Oyun No\"].nunique())\n",
    "\n",
    "extension = raw_scores.loc[raw_scores[\"Extension\"] == 1][\"Oyun No\"].unique()\n",
    "avg_extension_time = (raw_scores.loc[raw_scores[\"Oyun No\"].isin(extension)].groupby(\"Oyun No\")[time_col].max().sum()/60) \\\n",
    "      /(raw_scores.loc[raw_scores[\"Oyun No\"].isin(extension)][\"Oyun No\"].nunique())\n",
    "avg_regular_time = (raw_scores.loc[~raw_scores[\"Oyun No\"].isin(extension)].groupby(\"Oyun No\")[time_col].max().sum()/60) \\\n",
    "      /(raw_scores.loc[~raw_scores[\"Oyun No\"].isin(extension)][\"Oyun No\"].nunique())"
   ]
  },
  {
   "cell_type": "code",
   "execution_count": 6,
   "id": "2614a276",
   "metadata": {},
   "outputs": [],
   "source": [
    "time_col = \"avg_time_per_player\"\n",
    "volkan = raw_scores.loc[(raw_scores[\"Asıl oyuncu\"] == \"Volkan\") | (raw_scores[\"Yedek oyuncu\"] == \"Volkan\")][\"Oyun No\"].unique()\n",
    "avg_volkan_time_per_player = (raw_scores.loc[raw_scores[\"Oyun No\"].isin(volkan)].groupby(\"Oyun No\")[time_col].max().sum()/60)\\\n",
    "      /(raw_scores.loc[raw_scores[\"Oyun No\"].isin(volkan)][\"Oyun No\"].nunique())\n",
    "avg_wo_volkan_time_per_player = (raw_scores.loc[~raw_scores[\"Oyun No\"].isin(volkan)].groupby(\"Oyun No\")[time_col].max().sum()/60) \\\n",
    "      /(raw_scores.loc[~raw_scores[\"Oyun No\"].isin(volkan)][\"Oyun No\"].nunique())\n",
    "\n",
    "extension = raw_scores.loc[raw_scores[\"Extension\"] == 1][\"Oyun No\"].unique()\n",
    "avg_extension_time_per_player = (raw_scores.loc[raw_scores[\"Oyun No\"].isin(extension)].groupby(\"Oyun No\")[time_col].max().sum()/60) \\\n",
    "      /(raw_scores.loc[raw_scores[\"Oyun No\"].isin(extension)][\"Oyun No\"].nunique())\n",
    "avg_regular_time_per_player = (raw_scores.loc[~raw_scores[\"Oyun No\"].isin(extension)].groupby(\"Oyun No\")[time_col].max().sum()/60) \\\n",
    "      /(raw_scores.loc[~raw_scores[\"Oyun No\"].isin(extension)][\"Oyun No\"].nunique())"
   ]
  },
  {
   "cell_type": "markdown",
   "id": "0cb9c7ed",
   "metadata": {},
   "source": [
    "### Player Count vs Time passed during Game"
   ]
  },
  {
   "cell_type": "code",
   "execution_count": 7,
   "id": "218f6bbb",
   "metadata": {
    "scrolled": false
   },
   "outputs": [
    {
     "data": {
      "text/plain": [
       "<seaborn.axisgrid.FacetGrid at 0x7f904af7ec70>"
      ]
     },
     "execution_count": 7,
     "metadata": {},
     "output_type": "execute_result"
    },
    {
     "data": {
      "image/png": "[encoded data removed]",
      "text/plain": [
       "<Figure size 360x360 with 1 Axes>"
      ]
     },
     "metadata": {},
     "output_type": "display_data"
    }
   ],
   "source": [
    "times = pd.merge(raw_scores.groupby(\"Oyun No\", as_index=False).agg({\"Süre\": 'max'}),\n",
    "         raw_scores.groupby(\"Oyun No\", as_index=False).agg({\"player_count\": 'max'}), on=\"Oyun No\")\n",
    "sns.set_style('whitegrid')\n",
    "sns.lmplot(x ='player_count', y ='Süre', data = times)"
   ]
  },
  {
   "cell_type": "code",
   "execution_count": 8,
   "id": "3bf76e41",
   "metadata": {},
   "outputs": [
    {
     "data": {
      "text/plain": [
       "<seaborn.axisgrid.FacetGrid at 0x7f9028d8c550>"
      ]
     },
     "execution_count": 8,
     "metadata": {},
     "output_type": "execute_result"
    },
    {
     "data": {
      "image/png": "[encoded data removed]",
      "text/plain": [
       "<Figure size 360x360 with 1 Axes>"
      ]
     },
     "metadata": {},
     "output_type": "display_data"
    },
    {
     "data": {
      "image/png": "[encoded data removed]",
      "text/plain": [
       "<Figure size 360x360 with 1 Axes>"
      ]
     },
     "metadata": {},
     "output_type": "display_data"
    },
    {
     "data": {
      "image/png": "[encoded data removed]",
      "text/plain": [
       "<Figure size 360x360 with 1 Axes>"
      ]
     },
     "metadata": {},
     "output_type": "display_data"
    },
    {
     "data": {
      "image/png": "[encoded data removed]",
      "text/plain": [
       "<Figure size 360x360 with 1 Axes>"
      ]
     },
     "metadata": {},
     "output_type": "display_data"
    },
    {
     "data": {
      "image/png": "[encoded data removed]",
      "text/plain": [
       "<Figure size 360x360 with 1 Axes>"
      ]
     },
     "metadata": {},
     "output_type": "display_data"
    }
   ],
   "source": [
    "sns.set_style('whitegrid')\n",
    "sns.lmplot(x ='Şehir Sayısı', y ='Puan', data = raw_scores)\n",
    "\n",
    "sns.lmplot(x ='Köy Sayısı', y ='Puan', data = raw_scores)\n",
    "\n",
    "sns.lmplot(x ='Yol Sayısı', y ='Puan', data = raw_scores)\n",
    "\n",
    "sns.lmplot(x ='Gelişim Kartı Sayısı', y ='Puan', data = raw_scores)\n",
    "\n",
    "sns.lmplot(x ='Liman Sayısı', y ='Puan', data = raw_scores)"
   ]
  },
  {
   "cell_type": "markdown",
   "id": "9ab021c5",
   "metadata": {},
   "source": [
    "### Time passed per player during game as the # of game increases"
   ]
  },
  {
   "cell_type": "code",
   "execution_count": 9,
   "id": "26706cd9",
   "metadata": {},
   "outputs": [
    {
     "data": {
      "text/plain": [
       "<AxesSubplot:xlabel='Oyun No', ylabel='rolling_mean'>"
      ]
     },
     "execution_count": 9,
     "metadata": {},
     "output_type": "execute_result"
    },
    {
     "data": {
      "image/png": "[encoded data removed]",
      "text/plain": [
       "<Figure size 432x288 with 1 Axes>"
      ]
     },
     "metadata": {},
     "output_type": "display_data"
    }
   ],
   "source": [
    "times[\"time_per_player\"] = times[\"Süre\"]/times[\"player_count\"]\n",
    "times[\"rolling_mean\"] = times[\"time_per_player\"].rolling(3).mean()\n",
    "sns.lineplot(x=\"Oyun No\", y=\"rolling_mean\", data=times)"
   ]
  },
  {
   "cell_type": "code",
   "execution_count": 10,
   "id": "caa728ec",
   "metadata": {},
   "outputs": [
    {
     "name": "stdout",
     "output_type": "stream",
     "text": [
      "\n",
      "Total Hours Played: 36.416666666666664\n",
      "Avg hour per game: 1.0711\n",
      "Extension Games %: 29.41\n",
      "Avg Extension Time (h): 1.167\n",
      "Avg Regular Time (h): 1.031\n",
      "Avg Time w/Volkan (h): 1.458\n",
      "Avg Time wo/Volkan (h): 1.019\n",
      "Avg Extension Time per Player: 0.219\n",
      "Avg Regular Time per Player (h): 0.305\n",
      "Avg Time w/Volkan per Player (h): 0.306\n",
      "Avg Time wo/Volkan per Player (h): 0.276\n",
      "Shortest Game (h): 0.667\n",
      "Longest Game (h): 2.0\n",
      "\n"
     ]
    }
   ],
   "source": [
    "total_time = raw_scores.groupby(\"Oyun No\")[\"Süre\"].max().sum()/60\n",
    "avg_time = total_time/raw_scores[\"Oyun No\"].max()\n",
    "extension_percent = raw_scores.groupby(\"Oyun No\")[\"Extension\"].max().sum()/raw_scores[\"Oyun No\"].max()\n",
    "shortest = raw_scores[\"Süre\"].min()\n",
    "longest = raw_scores[\"Süre\"].max()\n",
    "player_count_time = raw_scores[[\"player_count\", \"Oyun No\", \"Süre\"]].drop_duplicates().groupby(\"player_count\")[\"Süre\"].mean()\n",
    "print(f\"\"\"\n",
    "Total Hours Played: {total_time}\n",
    "Avg hour per game: {round(avg_time, 4)}\n",
    "Extension Games %: {round(100*extension_percent, 2)}\n",
    "Avg Extension Time (h): {round(avg_extension_time, 3)}\n",
    "Avg Regular Time (h): {round(avg_regular_time, 3)}\n",
    "Avg Time w/Volkan (h): {round(avg_volkan_time, 3)}\n",
    "Avg Time wo/Volkan (h): {round(avg_wo_volkan_time, 3)}\n",
    "Avg Extension Time per Player: {round(avg_extension_time_per_player, 3)}\n",
    "Avg Regular Time per Player (h): {round(avg_regular_time_per_player, 3)}\n",
    "Avg Time w/Volkan per Player (h): {round(avg_volkan_time_per_player, 3)}\n",
    "Avg Time wo/Volkan per Player (h): {round(avg_wo_volkan_time_per_player, 3)}\n",
    "Shortest Game (h): {round(shortest/60, 3)}\n",
    "Longest Game (h): {round(longest/60, 3)}\n",
    "\"\"\")"
   ]
  },
  {
   "cell_type": "code",
   "execution_count": 11,
   "id": "c6060223",
   "metadata": {},
   "outputs": [],
   "source": [
    "yedek = raw_scores.loc[~raw_scores[\"Yedek oyuncu\"].isnull()]"
   ]
  },
  {
   "cell_type": "code",
   "execution_count": 12,
   "id": "531a6aaf",
   "metadata": {},
   "outputs": [],
   "source": [
    "yedek[\"Asıl oyuncu\"] = yedek[\"Yedek oyuncu\"]"
   ]
  },
  {
   "cell_type": "code",
   "execution_count": 13,
   "id": "f1c6f4f7",
   "metadata": {},
   "outputs": [
    {
     "data": {
      "text/html": [
       "<div>\n",
       "<style scoped>\n",
       "    .dataframe tbody tr th:only-of-type {\n",
       "        vertical-align: middle;\n",
       "    }\n",
       "\n",
       "    .dataframe tbody tr th {\n",
       "        vertical-align: top;\n",
       "    }\n",
       "\n",
       "    .dataframe thead th {\n",
       "        text-align: right;\n",
       "    }\n",
       "</style>\n",
       "<table border=\"1\" class=\"dataframe\">\n",
       "  <thead>\n",
       "    <tr style=\"text-align: right;\">\n",
       "      <th></th>\n",
       "      <th>Oyun No</th>\n",
       "      <th>Tarih</th>\n",
       "      <th>Asıl oyuncu</th>\n",
       "      <th>Sıra</th>\n",
       "      <th>Yedek oyuncu</th>\n",
       "      <th>Kazanan</th>\n",
       "      <th>Puan</th>\n",
       "      <th>Renk</th>\n",
       "      <th>Şehir Sayısı</th>\n",
       "      <th>Köy Sayısı</th>\n",
       "      <th>...</th>\n",
       "      <th>İlk 3-1 Liman</th>\n",
       "      <th>2-1 Tuğla</th>\n",
       "      <th>2-1 Saman</th>\n",
       "      <th>2022-03-01 00:00:00</th>\n",
       "      <th>2-1 Odun</th>\n",
       "      <th>2-1 Kaya</th>\n",
       "      <th>2-1 Koyun</th>\n",
       "      <th>Zar</th>\n",
       "      <th>player_count</th>\n",
       "      <th>avg_time_per_player</th>\n",
       "    </tr>\n",
       "  </thead>\n",
       "  <tbody>\n",
       "    <tr>\n",
       "      <th>2</th>\n",
       "      <td>1.0</td>\n",
       "      <td>2022-02-22</td>\n",
       "      <td>Çağatay</td>\n",
       "      <td>4.0</td>\n",
       "      <td>Çağatay</td>\n",
       "      <td>Alperen</td>\n",
       "      <td>8.0</td>\n",
       "      <td>Kırmızı</td>\n",
       "      <td>2.0</td>\n",
       "      <td>3.0</td>\n",
       "      <td>...</td>\n",
       "      <td>NaN</td>\n",
       "      <td>NaN</td>\n",
       "      <td>NaN</td>\n",
       "      <td>NaN</td>\n",
       "      <td>NaN</td>\n",
       "      <td>NaN</td>\n",
       "      <td>NaN</td>\n",
       "      <td>NaN</td>\n",
       "      <td>4.0</td>\n",
       "      <td>26.250000</td>\n",
       "    </tr>\n",
       "    <tr>\n",
       "      <th>3</th>\n",
       "      <td>1.0</td>\n",
       "      <td>2022-02-22</td>\n",
       "      <td>Ecem</td>\n",
       "      <td>3.0</td>\n",
       "      <td>Ecem</td>\n",
       "      <td>Alperen</td>\n",
       "      <td>7.0</td>\n",
       "      <td>Turuncu</td>\n",
       "      <td>2.0</td>\n",
       "      <td>1.0</td>\n",
       "      <td>...</td>\n",
       "      <td>NaN</td>\n",
       "      <td>NaN</td>\n",
       "      <td>NaN</td>\n",
       "      <td>NaN</td>\n",
       "      <td>NaN</td>\n",
       "      <td>NaN</td>\n",
       "      <td>NaN</td>\n",
       "      <td>NaN</td>\n",
       "      <td>4.0</td>\n",
       "      <td>26.250000</td>\n",
       "    </tr>\n",
       "    <tr>\n",
       "      <th>7</th>\n",
       "      <td>3.0</td>\n",
       "      <td>2022-03-08</td>\n",
       "      <td>Feyza</td>\n",
       "      <td>4.0</td>\n",
       "      <td>Feyza</td>\n",
       "      <td>Melis</td>\n",
       "      <td>6.0</td>\n",
       "      <td>Kırmızı</td>\n",
       "      <td>0.0</td>\n",
       "      <td>4.0</td>\n",
       "      <td>...</td>\n",
       "      <td>NaN</td>\n",
       "      <td>NaN</td>\n",
       "      <td>NaN</td>\n",
       "      <td>NaN</td>\n",
       "      <td>NaN</td>\n",
       "      <td>NaN</td>\n",
       "      <td>NaN</td>\n",
       "      <td>NaN</td>\n",
       "      <td>4.0</td>\n",
       "      <td>30.000000</td>\n",
       "    </tr>\n",
       "    <tr>\n",
       "      <th>14</th>\n",
       "      <td>4.0</td>\n",
       "      <td>2022-03-09</td>\n",
       "      <td>Feyza</td>\n",
       "      <td>4.0</td>\n",
       "      <td>Feyza</td>\n",
       "      <td>Batuhan</td>\n",
       "      <td>4.0</td>\n",
       "      <td>Beyaz</td>\n",
       "      <td>2.0</td>\n",
       "      <td>0.0</td>\n",
       "      <td>...</td>\n",
       "      <td>0.0</td>\n",
       "      <td>NaN</td>\n",
       "      <td>NaN</td>\n",
       "      <td>NaN</td>\n",
       "      <td>NaN</td>\n",
       "      <td>NaN</td>\n",
       "      <td>NaN</td>\n",
       "      <td>NaN</td>\n",
       "      <td>4.0</td>\n",
       "      <td>17.500000</td>\n",
       "    </tr>\n",
       "    <tr>\n",
       "      <th>88</th>\n",
       "      <td>24.0</td>\n",
       "      <td>2022-04-01</td>\n",
       "      <td>Feyza</td>\n",
       "      <td>2.0</td>\n",
       "      <td>Feyza</td>\n",
       "      <td>Ecem</td>\n",
       "      <td>8.0</td>\n",
       "      <td>Beyaz</td>\n",
       "      <td>4.0</td>\n",
       "      <td>0.0</td>\n",
       "      <td>...</td>\n",
       "      <td>0.0</td>\n",
       "      <td>0.0</td>\n",
       "      <td>0.0</td>\n",
       "      <td>0.0</td>\n",
       "      <td>0.0</td>\n",
       "      <td>0.0</td>\n",
       "      <td>0.0</td>\n",
       "      <td>NaN</td>\n",
       "      <td>6.0</td>\n",
       "      <td>18.333333</td>\n",
       "    </tr>\n",
       "  </tbody>\n",
       "</table>\n",
       "<p>5 rows × 38 columns</p>\n",
       "</div>"
      ],
      "text/plain": [
       "    Oyun No      Tarih Asıl oyuncu  Sıra Yedek oyuncu  Kazanan  Puan     Renk  \\\n",
       "2       1.0 2022-02-22     Çağatay   4.0      Çağatay  Alperen   8.0  Kırmızı   \n",
       "3       1.0 2022-02-22        Ecem   3.0         Ecem  Alperen   7.0  Turuncu   \n",
       "7       3.0 2022-03-08       Feyza   4.0        Feyza    Melis   6.0  Kırmızı   \n",
       "14      4.0 2022-03-09       Feyza   4.0        Feyza  Batuhan   4.0    Beyaz   \n",
       "88     24.0 2022-04-01       Feyza   2.0        Feyza     Ecem   8.0    Beyaz   \n",
       "\n",
       "    Şehir Sayısı  Köy Sayısı  ...  İlk 3-1 Liman  2-1 Tuğla  2-1 Saman  \\\n",
       "2            2.0         3.0  ...            NaN        NaN        NaN   \n",
       "3            2.0         1.0  ...            NaN        NaN        NaN   \n",
       "7            0.0         4.0  ...            NaN        NaN        NaN   \n",
       "14           2.0         0.0  ...            0.0        NaN        NaN   \n",
       "88           4.0         0.0  ...            0.0        0.0        0.0   \n",
       "\n",
       "    2022-03-01 00:00:00  2-1 Odun  2-1 Kaya 2-1 Koyun  Zar  player_count  \\\n",
       "2                   NaN       NaN       NaN       NaN  NaN           4.0   \n",
       "3                   NaN       NaN       NaN       NaN  NaN           4.0   \n",
       "7                   NaN       NaN       NaN       NaN  NaN           4.0   \n",
       "14                  NaN       NaN       NaN       NaN  NaN           4.0   \n",
       "88                  0.0       0.0       0.0       0.0  NaN           6.0   \n",
       "\n",
       "    avg_time_per_player  \n",
       "2             26.250000  \n",
       "3             26.250000  \n",
       "7             30.000000  \n",
       "14            17.500000  \n",
       "88            18.333333  \n",
       "\n",
       "[5 rows x 38 columns]"
      ]
     },
     "execution_count": 13,
     "metadata": {},
     "output_type": "execute_result"
    }
   ],
   "source": [
    "yedek"
   ]
  },
  {
   "cell_type": "code",
   "execution_count": 14,
   "id": "b41fcb3e",
   "metadata": {},
   "outputs": [
    {
     "data": {
      "text/plain": [
       "Index([                'Oyun No',                   'Tarih',\n",
       "                   'Asıl oyuncu',                    'Sıra',\n",
       "                  'Yedek oyuncu',                 'Kazanan',\n",
       "                          'Puan',                    'Renk',\n",
       "                  'Şehir Sayısı',              'Köy Sayısı',\n",
       "                    'Yol Sayısı',    'Gelişim Kartı Sayısı',\n",
       "             'ilk Gelişim Kartı',          'İlk Şehirleşen',\n",
       "                       'İlk Köy',            'Liman Sayısı',\n",
       "       'İlk Hangi Kaynak yanına',                    'Kasa',\n",
       "                          'Süre',               'Extension',\n",
       "                'Başlangıç Saat',             'En Uzun Yol',\n",
       "                       'Şövalye',     'İlk 2-1 Tuğla Liman',\n",
       "            'İlk 2-1 Kaya Liman',     'İlk 2-1 Saman Liman',\n",
       "           'İlk 2-1 Koyun Liman',      'İlk 2-1 Odun Liman',\n",
       "                 'İlk 3-1 Liman',               '2-1 Tuğla',\n",
       "                     '2-1 Saman',       2022-03-01 00:00:00,\n",
       "                      '2-1 Odun',                '2-1 Kaya',\n",
       "                     '2-1 Koyun',                     'Zar',\n",
       "                  'player_count',     'avg_time_per_player'],\n",
       "      dtype='object')"
      ]
     },
     "execution_count": 14,
     "metadata": {},
     "output_type": "execute_result"
    }
   ],
   "source": [
    "raw_scores.columns"
   ]
  },
  {
   "cell_type": "code",
   "execution_count": 15,
   "id": "ce176925-8da9-4560-9291-1d99356a2be8",
   "metadata": {},
   "outputs": [],
   "source": [
    "raw_scores = raw_scores[[\"Oyun No\", \"Sıra\", \"Tarih\", \"Asıl oyuncu\",\n",
    "                         \"Kazanan\", \"Puan\", \"İlk Şehirleşen\", \"İlk Köy\", \"ilk Gelişim Kartı\",\n",
    "                         \"En Uzun Yol\", \"Şövalye\"]]\n",
    "yedek = yedek[[\"Oyun No\", \"Sıra\", \"Tarih\", \"Asıl oyuncu\", \"Kazanan\", \"Puan\", \"İlk Şehirleşen\", \"İlk Köy\",\n",
    "              \"ilk Gelişim Kartı\", \"En Uzun Yol\", \"Şövalye\"]]\n",
    "\n",
    "raw_scores = pd.concat([raw_scores, yedek], axis=0)"
   ]
  },
  {
   "cell_type": "code",
   "execution_count": 16,
   "id": "9efbfa40",
   "metadata": {},
   "outputs": [],
   "source": [
    "raw_scores.columns = [\"game_id\", \"rank\", \"date\", \"player\", \n",
    "                      \"winner\", \"score\", \"first_city\", \"first_village\",\n",
    "                      \"first_development\", \"longest_path\", \"strongest_army\"]"
   ]
  },
  {
   "cell_type": "code",
   "execution_count": 17,
   "id": "bf48b856-5338-48eb-ad97-65636783b13f",
   "metadata": {},
   "outputs": [],
   "source": [
    "def win_or_lose(player: str, winner: str):\n",
    "    if player == winner:\n",
    "        return 'W'\n",
    "    else:\n",
    "        return 'L'"
   ]
  },
  {
   "cell_type": "code",
   "execution_count": 18,
   "id": "99dc194c-8991-40c5-9da7-6ff19b969c4e",
   "metadata": {
    "scrolled": true
   },
   "outputs": [],
   "source": [
    "raw_scores[\"result\"] = \"L\"\n",
    "raw_scores.loc[raw_scores[\"player\"] == raw_scores[\"winner\"], \"result\"] = \"W\"\n",
    "scores = copy.deepcopy(raw_scores)"
   ]
  },
  {
   "cell_type": "markdown",
   "id": "3c6921bf",
   "metadata": {},
   "source": [
    "### Conditional Probability of winning a game given that $expression$"
   ]
  },
  {
   "cell_type": "code",
   "execution_count": 19,
   "id": "ae9bcb8f",
   "metadata": {},
   "outputs": [],
   "source": [
    "scores[\"max_rank\"] = raw_scores.groupby(\"game_id\")[\"rank\"].transform('max')\n",
    "scores[\"min_rank\"] = raw_scores.groupby(\"game_id\")[\"rank\"].transform('min')\n",
    "scores[\"is_last_player\"] = np.where(scores[\"max_rank\"] == scores[\"rank\"], 1, 0)\n",
    "scores[\"is_first_player\"] = np.where(scores[\"min_rank\"] == scores[\"rank\"], 1, 0)\n",
    "scores[\"winner\"] = np.where(scores[\"result\"] == \"W\", 1, 0)\n",
    "scores['count'] = 1"
   ]
  },
  {
   "cell_type": "code",
   "execution_count": 20,
   "id": "8fa84522",
   "metadata": {},
   "outputs": [],
   "source": [
    "def calculate_cond_prob(df: pd.DataFrame,\n",
    "                       win_col: str,\n",
    "                       value_col: list,\n",
    "                       conditional_col: list):\n",
    "    \n",
    "    temp = pd.pivot_table(\n",
    "        df, \n",
    "        values=value_col, \n",
    "        index=win_col, \n",
    "        columns=conditional_col, \n",
    "        aggfunc=np.size, \n",
    "        fill_value=0\n",
    "    )\n",
    "    PB = sum(temp.iloc[:,1])/sum(sum(temp.values))\n",
    "    PANB = temp.iloc[1,1]/sum(sum(temp.values))\n",
    "\n",
    "    print(f\"Probability of winning the game, given that the {conditional_col[0]} is 1 {round(PANB/PB, 2)}% out of {sum(sum(temp.values))} samples.\")"
   ]
  },
  {
   "cell_type": "markdown",
   "id": "ffb2a38b",
   "metadata": {},
   "source": [
    "Ex:\n",
    "- P(A) is the probability of a player wins. \n",
    "- P(B) is the probability of being last player.\n",
    "- P(A|B) is the probability of winning the game, given that the player's turn is the last\n",
    "\n",
    "P(A|B) = P(A ∩ B) / P(B)\n"
   ]
  },
  {
   "cell_type": "code",
   "execution_count": 21,
   "id": "07b03b6f",
   "metadata": {},
   "outputs": [
    {
     "name": "stdout",
     "output_type": "stream",
     "text": [
      "Probability of winning the game, given that the is_last_player is 1 0.3% out of 139 samples.\n",
      "Probability of winning the game, given that the is_first_player is 1 0.21% out of 139 samples.\n",
      "Probability of winning the game, given that the first_city is 1 0.39% out of 139 samples.\n",
      "Probability of winning the game, given that the first_village is 1 0.24% out of 139 samples.\n",
      "Probability of winning the game, given that the first_development is 1 0.46% out of 139 samples.\n",
      "Probability of winning the game, given that the longest_path is 1 0.43% out of 97 samples.\n",
      "Probability of winning the game, given that the strongest_army is 1 0.71% out of 97 samples.\n"
     ]
    }
   ],
   "source": [
    "calculate_cond_prob(df=scores,\n",
    "                    win_col=[\"winner\"],\n",
    "                    value_col=\"count\",\n",
    "                   conditional_col=[\"is_last_player\"])\n",
    "\n",
    "calculate_cond_prob(df=scores,\n",
    "                    win_col=[\"winner\"],\n",
    "                    value_col=\"count\",\n",
    "                   conditional_col=[\"is_first_player\"])\n",
    "\n",
    "calculate_cond_prob(df=scores,\n",
    "                    win_col=[\"winner\"],\n",
    "                    value_col=\"count\",\n",
    "                   conditional_col=[\"first_city\"])\n",
    "\n",
    "calculate_cond_prob(df=scores,\n",
    "                    win_col=[\"winner\"],\n",
    "                    value_col=\"count\",\n",
    "                   conditional_col=[\"first_village\"])\n",
    "\n",
    "calculate_cond_prob(df=scores,\n",
    "                    win_col=[\"winner\"],\n",
    "                    value_col=\"count\",\n",
    "                   conditional_col=[\"first_development\"])\n",
    "\n",
    "calculate_cond_prob(df=scores,\n",
    "                    win_col=[\"winner\"],\n",
    "                    value_col=\"count\",\n",
    "                   conditional_col=[\"longest_path\"])\n",
    "\n",
    "calculate_cond_prob(df=scores,\n",
    "                    win_col=[\"winner\"],\n",
    "                    value_col=\"count\",\n",
    "                   conditional_col=[\"strongest_army\"])"
   ]
  },
  {
   "cell_type": "markdown",
   "id": "6558e009-c6da-49ff-aacc-4e1f206ea791",
   "metadata": {},
   "source": [
    "### Win/Loss Streaks\n",
    "Graph the win/loss streaks for each player"
   ]
  },
  {
   "cell_type": "code",
   "execution_count": 22,
   "id": "d983d5c3-ff94-40c8-a64f-45db87f28b57",
   "metadata": {},
   "outputs": [],
   "source": [
    "import matplotlib.pyplot as plt\n",
    "%matplotlib inline"
   ]
  },
  {
   "cell_type": "code",
   "execution_count": 23,
   "id": "e25c94ba-c26c-45b4-8578-26135aa517ef",
   "metadata": {},
   "outputs": [],
   "source": [
    "scores = scores.sort_values(\"date\")\n",
    "scores.loc[scores['result'] == \"W\", \"wins\"] = 1\n",
    "scores.loc[scores['result'] == \"L\", \"losses\"] = -1"
   ]
  },
  {
   "cell_type": "code",
   "execution_count": 24,
   "id": "6cff684f-6c95-423c-88a8-ca1867f37567",
   "metadata": {},
   "outputs": [],
   "source": [
    "def plot_win_lose_streaks(player):\n",
    "    fig, ax = plt.subplots(figsize=(10,1))\n",
    "    # add a horizontal line at y=0\n",
    "    plt.axhline(y=0, color='black', linewidth=3)\n",
    "    \n",
    "    # separate wins, draws and losses for so we can show them in different colors\n",
    "    scores[scores['player']==player]['wins'].plot.bar(ax=ax, color='green', width=1)\n",
    "    scores[scores['player']==player]['losses'].plot.bar(ax=ax, color='red', width=1)\n",
    "    \n",
    "    plt.title(player, loc='left')\n",
    "\n",
    "    ax.tick_params(bottom=False, labelbottom=False)\n",
    "    plt.gca().invert_xaxis()\n",
    "\n",
    "    plt.show()"
   ]
  },
  {
   "cell_type": "code",
   "execution_count": 25,
   "id": "8930748f",
   "metadata": {
    "scrolled": true
   },
   "outputs": [
    {
     "name": "stdout",
     "output_type": "stream",
     "text": [
      "Batuhan Wins in Every 4.57 game\n",
      "Alperen Wins in Every 2.0 game\n",
      "Volkan Wins in Every 0 game\n",
      "Melis Wins in Every 6.5 game\n",
      "Ecem Wins in Every 3.83 game\n",
      "Çağatay Wins in Every 4.67 game\n",
      "Feyza Wins in Every 3.0 game\n",
      "Canberk Wins in Every 0 game\n"
     ]
    }
   ],
   "source": [
    "players = scores.drop_duplicates('player')['player']\n",
    "def wins_in_every_x_game(player, df):\n",
    "    data = df[(df['player']==player)]\n",
    "    data.fillna({\"wins\": 0}, inplace=True)\n",
    "    data[\"game_id\"] = data[\"count\"].cumsum()\n",
    "    data[\"previous_status\"] = data[\"wins\"].shift(1)\n",
    "    data[\"previous_game\"] = data[\"game_id\"].shift(1)\n",
    "    data.loc[data[\"previous_status\"] == 1, \"last_win_game\"] = data.loc[data[\"previous_status\"] == 1, \"previous_game\"]\n",
    "    data = data.loc[~data[\"last_win_game\"].isnull()]\n",
    "    data[\"previous_last_win_game\"] = data[\"last_win_game\"].shift(1)\n",
    "    data[\"diff\"] = data[\"last_win_game\"] - data[\"previous_last_win_game\"]\n",
    "    data.fillna({\"diff\": data.last_win_game}, inplace=True)\n",
    "    data[\"game_id\"] = data[\"count\"].cumsum()\n",
    "    return data[[\"game_id\", \"player\", \"diff\"]]\n",
    "winning = pd.DataFrame()\n",
    "for player in players:\n",
    "    data = wins_in_every_x_game(player, df=scores)\n",
    "    winning = pd.concat([winning, data], axis=0)\n",
    "    mean_ = round(np.mean(data[\"diff\"]),2)\n",
    "    print(f\"{player} Wins in Every {mean_ if mean_ > 0 else 0} game\")\n",
    "winning = winning.reset_index(drop=True)\n",
    "winning[\"rolling_mean\"] = winning.groupby(\"player\")[\"diff\"].apply(lambda x: x.rolling(2).mean())"
   ]
  },
  {
   "cell_type": "code",
   "execution_count": 26,
   "id": "647970eb",
   "metadata": {},
   "outputs": [
    {
     "data": {
      "text/plain": [
       "<AxesSubplot:xlabel='game_id', ylabel='rolling_mean'>"
      ]
     },
     "execution_count": 26,
     "metadata": {},
     "output_type": "execute_result"
    },
    {
     "data": {
      "image/png": "[encoded data removed]",
      "text/plain": [
       "<Figure size 432x288 with 1 Axes>"
      ]
     },
     "metadata": {
      "needs_background": "light"
     },
     "output_type": "display_data"
    }
   ],
   "source": [
    "sns.lineplot(x=\"game_id\", y=\"rolling_mean\", hue=\"player\", data=winning)"
   ]
  },
  {
   "cell_type": "code",
   "execution_count": 27,
   "id": "d67ca0f8-79e6-4a76-9734-0220be5c3649",
   "metadata": {},
   "outputs": [
    {
     "data": {
      "image/png": "[encoded data removed]",
      "text/plain": [
       "<Figure size 720x72 with 1 Axes>"
      ]
     },
     "metadata": {
      "needs_background": "light"
     },
     "output_type": "display_data"
    },
    {
     "data": {
      "image/png": "[encoded data removed]",
      "text/plain": [
       "<Figure size 720x72 with 1 Axes>"
      ]
     },
     "metadata": {
      "needs_background": "light"
     },
     "output_type": "display_data"
    },
    {
     "data": {
      "image/png": "[encoded data removed]",
      "text/plain": [
       "<Figure size 720x72 with 1 Axes>"
      ]
     },
     "metadata": {
      "needs_background": "light"
     },
     "output_type": "display_data"
    },
    {
     "data": {
      "image/png": "[encoded data removed]",
      "text/plain": [
       "<Figure size 720x72 with 1 Axes>"
      ]
     },
     "metadata": {
      "needs_background": "light"
     },
     "output_type": "display_data"
    },
    {
     "data": {
      "image/png": "[encoded data removed]",
      "text/plain": [
       "<Figure size 720x72 with 1 Axes>"
      ]
     },
     "metadata": {
      "needs_background": "light"
     },
     "output_type": "display_data"
    },
    {
     "data": {
      "image/png": "[encoded data removed]",
      "text/plain": [
       "<Figure size 720x72 with 1 Axes>"
      ]
     },
     "metadata": {
      "needs_background": "light"
     },
     "output_type": "display_data"
    },
    {
     "data": {
      "image/png": "[encoded data removed]",
      "text/plain": [
       "<Figure size 720x72 with 1 Axes>"
      ]
     },
     "metadata": {
      "needs_background": "light"
     },
     "output_type": "display_data"
    },
    {
     "data": {
      "image/png": "[encoded data removed]",
      "text/plain": [
       "<Figure size 720x72 with 1 Axes>"
      ]
     },
     "metadata": {
      "needs_background": "light"
     },
     "output_type": "display_data"
    }
   ],
   "source": [
    "for player in players:\n",
    "    plot_win_lose_streaks(player)"
   ]
  },
  {
   "cell_type": "markdown",
   "id": "355a645f-60db-4b7c-8e05-e07df4464f4d",
   "metadata": {},
   "source": [
    "## Rankings\n",
    "\n",
    "Show and rank via win percentage for each player. Alternatives would be\n",
    " - total number of wins\n",
    " - total IMPs scored\n",
    " \n",
    "but go with win percentages for now"
   ]
  },
  {
   "cell_type": "code",
   "execution_count": 28,
   "id": "01810a07-2e64-43ca-89db-ad26a0852d8c",
   "metadata": {},
   "outputs": [],
   "source": [
    "rankings = scores.groupby('player').count().drop(['score'], axis=1)\n",
    "# drop players with 3 games or less\n",
    "rankings = rankings[rankings['result'] >= 3]\n",
    "rankings['pct'] = rankings['wins'] / rankings['result']\n",
    "rankings = rankings.sort_values(by='pct', ascending=False)"
   ]
  },
  {
   "cell_type": "code",
   "execution_count": 29,
   "id": "e59a879d-5e34-4f97-b389-14eb67d7306b",
   "metadata": {},
   "outputs": [
    {
     "data": {
      "image/png": "[encoded data removed]",
      "text/plain": [
       "<Figure size 640x480 with 1 Axes>"
      ]
     },
     "metadata": {},
     "output_type": "display_data"
    }
   ],
   "source": [
    "plt.rcdefaults()\n",
    "fig, ax = plt.subplots()\n",
    "\n",
    "y_pos = np.arange(len(rankings))\n",
    "ax.barh(y_pos, rankings['pct'], edgecolor='blue')\n",
    "ax.set_yticks(y_pos, labels=list(rankings.index))\n",
    "ax.invert_yaxis()  # highest first\n",
    "ax.set_xlabel('Win Percentage')\n",
    "ax.set_title('Rankings')\n",
    "\n",
    "for i in range(len(rankings.index)):\n",
    "    plt.text(rankings['pct'][i], y_pos[i], round(rankings['pct'][i],2), \n",
    "             ha='right', va='center_baseline', fontsize='x-small', color='white')\n",
    "\n",
    "ax.set_xlim((0, 1))\n",
    "plt.show()"
   ]
  },
  {
   "cell_type": "markdown",
   "id": "16cbb3a2-9512-4e5d-ac9c-3d6434aba497",
   "metadata": {},
   "source": [
    "## Confidence Intervals\n",
    "\n",
    "In probability theory and statistics, the binomial distribution with parameters n and p is the discrete probability distribution of the number of successes in a sequence of n independent experiments, each asking a yes–no question, and each with its own Boolean-valued outcome: success (with probability p) or failure (with probability q = 1 − p).\n",
    "\n",
    "Calculate the confidence interval for the win percentages above, i.e. the *correct* win percentage for each player lies somewhere in the interval calculated with a high probability."
   ]
  },
  {
   "cell_type": "code",
   "execution_count": 30,
   "id": "22ff255e-38c2-4f37-9408-331a82081bdc",
   "metadata": {},
   "outputs": [],
   "source": [
    "from scipy.stats import binomtest"
   ]
  },
  {
   "cell_type": "code",
   "execution_count": 31,
   "id": "b6e4e42a-cc08-4019-b088-07ee72ca4f0e",
   "metadata": {},
   "outputs": [],
   "source": [
    "intervals = {}\n",
    "for i in range(len(rankings.index)):\n",
    "    result = binomtest(int(rankings.iloc[i]['wins']), int(rankings.iloc[i]['result']), rankings.iloc[i]['pct'], alternative='two-sided')\n",
    "    intervals[rankings.index[i]] = result.proportion_ci(confidence_level=0.95)"
   ]
  },
  {
   "cell_type": "code",
   "execution_count": 32,
   "id": "b392be2f-ee1c-4d3f-a584-1050b7aeeda6",
   "metadata": {},
   "outputs": [
    {
     "data": {
      "image/png": "[encoded data removed]",
      "text/plain": [
       "<Figure size 640x480 with 1 Axes>"
      ]
     },
     "metadata": {},
     "output_type": "display_data"
    }
   ],
   "source": [
    "fig, ax = plt.subplots()\n",
    "x = list()\n",
    "y = list()\n",
    "error_range = list()\n",
    "\n",
    "# reverse for descending order\n",
    "for i in range(len(intervals.keys())-1,-1, -1):\n",
    "    # player, center, lower_limit, upper_limit\n",
    "    # ('izzet', 0.6818181818181818, 0.451275572426236, 0.8613534784462099)\n",
    "    lines = rankings.index[i], rankings['pct'][rankings.index[i]], intervals[rankings.index[i]][0], intervals[rankings.index[i]][1]\n",
    "    x.append(lines[1])\n",
    "    y.append(lines[0])\n",
    "    error_range.append([lines[1]-lines[2], lines[3]-lines[1]])\n",
    "\n",
    "ax.errorbar(x, y, xerr=np.array(error_range).T, fmt='o', ecolor='green', elinewidth=2, capsize=4)\n",
    "\n",
    "# tidy up the figure\n",
    "ax.set_xlim((0, 1))\n",
    "ax.set_title('win percentage upper and lower bounds')\n",
    "plt.show()"
   ]
  },
  {
   "cell_type": "markdown",
   "id": "37f7dc74-ece6-4d6c-8823-f8f842308f32",
   "metadata": {
    "tags": []
   },
   "source": [
    "## Rankings - Cont\n",
    "\n",
    "Another ranking method is to use points for each game: 1 points for a win, 0 points for a loss."
   ]
  },
  {
   "cell_type": "code",
   "execution_count": 33,
   "id": "479bdf37",
   "metadata": {},
   "outputs": [],
   "source": [
    "raw_scores[\"points\"] = 0\n",
    "raw_scores.loc[raw_scores[\"player\"] == raw_scores[\"winner\"], \"points\"] = 1\n",
    "scores = copy.deepcopy(raw_scores)"
   ]
  },
  {
   "cell_type": "code",
   "execution_count": 34,
   "id": "04f7a4e3",
   "metadata": {},
   "outputs": [
    {
     "data": {
      "text/html": [
       "<div>\n",
       "<style scoped>\n",
       "    .dataframe tbody tr th:only-of-type {\n",
       "        vertical-align: middle;\n",
       "    }\n",
       "\n",
       "    .dataframe tbody tr th {\n",
       "        vertical-align: top;\n",
       "    }\n",
       "\n",
       "    .dataframe thead th {\n",
       "        text-align: right;\n",
       "    }\n",
       "</style>\n",
       "<table border=\"1\" class=\"dataframe\">\n",
       "  <thead>\n",
       "    <tr style=\"text-align: right;\">\n",
       "      <th></th>\n",
       "      <th>game_id</th>\n",
       "      <th>rank</th>\n",
       "      <th>date</th>\n",
       "      <th>player</th>\n",
       "      <th>winner</th>\n",
       "      <th>score</th>\n",
       "      <th>first_city</th>\n",
       "      <th>first_village</th>\n",
       "      <th>first_development</th>\n",
       "      <th>longest_path</th>\n",
       "      <th>strongest_army</th>\n",
       "      <th>result</th>\n",
       "      <th>points</th>\n",
       "    </tr>\n",
       "  </thead>\n",
       "  <tbody>\n",
       "    <tr>\n",
       "      <th>0</th>\n",
       "      <td>1.0</td>\n",
       "      <td>1.0</td>\n",
       "      <td>2022-02-22</td>\n",
       "      <td>Batuhan</td>\n",
       "      <td>Alperen</td>\n",
       "      <td>7.0</td>\n",
       "      <td>0.0</td>\n",
       "      <td>0.0</td>\n",
       "      <td>1.0</td>\n",
       "      <td>NaN</td>\n",
       "      <td>NaN</td>\n",
       "      <td>L</td>\n",
       "      <td>0</td>\n",
       "    </tr>\n",
       "    <tr>\n",
       "      <th>1</th>\n",
       "      <td>1.0</td>\n",
       "      <td>2.0</td>\n",
       "      <td>2022-02-22</td>\n",
       "      <td>Alperen</td>\n",
       "      <td>Alperen</td>\n",
       "      <td>10.0</td>\n",
       "      <td>1.0</td>\n",
       "      <td>0.0</td>\n",
       "      <td>0.0</td>\n",
       "      <td>NaN</td>\n",
       "      <td>NaN</td>\n",
       "      <td>W</td>\n",
       "      <td>1</td>\n",
       "    </tr>\n",
       "    <tr>\n",
       "      <th>2</th>\n",
       "      <td>1.0</td>\n",
       "      <td>4.0</td>\n",
       "      <td>2022-02-22</td>\n",
       "      <td>Volkan</td>\n",
       "      <td>Alperen</td>\n",
       "      <td>8.0</td>\n",
       "      <td>0.0</td>\n",
       "      <td>1.0</td>\n",
       "      <td>0.0</td>\n",
       "      <td>NaN</td>\n",
       "      <td>NaN</td>\n",
       "      <td>L</td>\n",
       "      <td>0</td>\n",
       "    </tr>\n",
       "    <tr>\n",
       "      <th>3</th>\n",
       "      <td>1.0</td>\n",
       "      <td>3.0</td>\n",
       "      <td>2022-02-22</td>\n",
       "      <td>Melis</td>\n",
       "      <td>Alperen</td>\n",
       "      <td>7.0</td>\n",
       "      <td>0.0</td>\n",
       "      <td>0.0</td>\n",
       "      <td>0.0</td>\n",
       "      <td>NaN</td>\n",
       "      <td>NaN</td>\n",
       "      <td>L</td>\n",
       "      <td>0</td>\n",
       "    </tr>\n",
       "    <tr>\n",
       "      <th>4</th>\n",
       "      <td>2.0</td>\n",
       "      <td>2.0</td>\n",
       "      <td>2022-03-06</td>\n",
       "      <td>Alperen</td>\n",
       "      <td>Çağatay</td>\n",
       "      <td>5.0</td>\n",
       "      <td>0.0</td>\n",
       "      <td>1.0</td>\n",
       "      <td>0.0</td>\n",
       "      <td>NaN</td>\n",
       "      <td>NaN</td>\n",
       "      <td>L</td>\n",
       "      <td>0</td>\n",
       "    </tr>\n",
       "    <tr>\n",
       "      <th>...</th>\n",
       "      <td>...</td>\n",
       "      <td>...</td>\n",
       "      <td>...</td>\n",
       "      <td>...</td>\n",
       "      <td>...</td>\n",
       "      <td>...</td>\n",
       "      <td>...</td>\n",
       "      <td>...</td>\n",
       "      <td>...</td>\n",
       "      <td>...</td>\n",
       "      <td>...</td>\n",
       "      <td>...</td>\n",
       "      <td>...</td>\n",
       "    </tr>\n",
       "    <tr>\n",
       "      <th>2</th>\n",
       "      <td>1.0</td>\n",
       "      <td>4.0</td>\n",
       "      <td>2022-02-22</td>\n",
       "      <td>Çağatay</td>\n",
       "      <td>Alperen</td>\n",
       "      <td>8.0</td>\n",
       "      <td>0.0</td>\n",
       "      <td>1.0</td>\n",
       "      <td>0.0</td>\n",
       "      <td>NaN</td>\n",
       "      <td>NaN</td>\n",
       "      <td>L</td>\n",
       "      <td>0</td>\n",
       "    </tr>\n",
       "    <tr>\n",
       "      <th>3</th>\n",
       "      <td>1.0</td>\n",
       "      <td>3.0</td>\n",
       "      <td>2022-02-22</td>\n",
       "      <td>Ecem</td>\n",
       "      <td>Alperen</td>\n",
       "      <td>7.0</td>\n",
       "      <td>0.0</td>\n",
       "      <td>0.0</td>\n",
       "      <td>0.0</td>\n",
       "      <td>NaN</td>\n",
       "      <td>NaN</td>\n",
       "      <td>L</td>\n",
       "      <td>0</td>\n",
       "    </tr>\n",
       "    <tr>\n",
       "      <th>7</th>\n",
       "      <td>3.0</td>\n",
       "      <td>4.0</td>\n",
       "      <td>2022-03-08</td>\n",
       "      <td>Feyza</td>\n",
       "      <td>Melis</td>\n",
       "      <td>6.0</td>\n",
       "      <td>0.0</td>\n",
       "      <td>1.0</td>\n",
       "      <td>1.0</td>\n",
       "      <td>NaN</td>\n",
       "      <td>NaN</td>\n",
       "      <td>L</td>\n",
       "      <td>0</td>\n",
       "    </tr>\n",
       "    <tr>\n",
       "      <th>14</th>\n",
       "      <td>4.0</td>\n",
       "      <td>4.0</td>\n",
       "      <td>2022-03-09</td>\n",
       "      <td>Feyza</td>\n",
       "      <td>Batuhan</td>\n",
       "      <td>4.0</td>\n",
       "      <td>0.0</td>\n",
       "      <td>0.0</td>\n",
       "      <td>0.0</td>\n",
       "      <td>NaN</td>\n",
       "      <td>NaN</td>\n",
       "      <td>L</td>\n",
       "      <td>0</td>\n",
       "    </tr>\n",
       "    <tr>\n",
       "      <th>88</th>\n",
       "      <td>24.0</td>\n",
       "      <td>2.0</td>\n",
       "      <td>2022-04-01</td>\n",
       "      <td>Feyza</td>\n",
       "      <td>Ecem</td>\n",
       "      <td>8.0</td>\n",
       "      <td>0.0</td>\n",
       "      <td>1.0</td>\n",
       "      <td>0.0</td>\n",
       "      <td>0.0</td>\n",
       "      <td>0.0</td>\n",
       "      <td>L</td>\n",
       "      <td>0</td>\n",
       "    </tr>\n",
       "  </tbody>\n",
       "</table>\n",
       "<p>139 rows × 13 columns</p>\n",
       "</div>"
      ],
      "text/plain": [
       "    game_id  rank       date   player   winner  score  first_city  \\\n",
       "0       1.0   1.0 2022-02-22  Batuhan  Alperen    7.0         0.0   \n",
       "1       1.0   2.0 2022-02-22  Alperen  Alperen   10.0         1.0   \n",
       "2       1.0   4.0 2022-02-22   Volkan  Alperen    8.0         0.0   \n",
       "3       1.0   3.0 2022-02-22    Melis  Alperen    7.0         0.0   \n",
       "4       2.0   2.0 2022-03-06  Alperen  Çağatay    5.0         0.0   \n",
       "..      ...   ...        ...      ...      ...    ...         ...   \n",
       "2       1.0   4.0 2022-02-22  Çağatay  Alperen    8.0         0.0   \n",
       "3       1.0   3.0 2022-02-22     Ecem  Alperen    7.0         0.0   \n",
       "7       3.0   4.0 2022-03-08    Feyza    Melis    6.0         0.0   \n",
       "14      4.0   4.0 2022-03-09    Feyza  Batuhan    4.0         0.0   \n",
       "88     24.0   2.0 2022-04-01    Feyza     Ecem    8.0         0.0   \n",
       "\n",
       "    first_village  first_development  longest_path  strongest_army result  \\\n",
       "0             0.0                1.0           NaN             NaN      L   \n",
       "1             0.0                0.0           NaN             NaN      W   \n",
       "2             1.0                0.0           NaN             NaN      L   \n",
       "3             0.0                0.0           NaN             NaN      L   \n",
       "4             1.0                0.0           NaN             NaN      L   \n",
       "..            ...                ...           ...             ...    ...   \n",
       "2             1.0                0.0           NaN             NaN      L   \n",
       "3             0.0                0.0           NaN             NaN      L   \n",
       "7             1.0                1.0           NaN             NaN      L   \n",
       "14            0.0                0.0           NaN             NaN      L   \n",
       "88            1.0                0.0           0.0             0.0      L   \n",
       "\n",
       "    points  \n",
       "0        0  \n",
       "1        1  \n",
       "2        0  \n",
       "3        0  \n",
       "4        0  \n",
       "..     ...  \n",
       "2        0  \n",
       "3        0  \n",
       "7        0  \n",
       "14       0  \n",
       "88       0  \n",
       "\n",
       "[139 rows x 13 columns]"
      ]
     },
     "execution_count": 34,
     "metadata": {},
     "output_type": "execute_result"
    }
   ],
   "source": [
    "scores"
   ]
  },
  {
   "cell_type": "markdown",
   "id": "9fb25927-0d5b-4f5a-b6c4-3899fd9dabb2",
   "metadata": {},
   "source": [
    "add up the points earned to form a league table"
   ]
  },
  {
   "cell_type": "code",
   "execution_count": 36,
   "id": "e5988428-928a-49a1-9044-4a3287653e95",
   "metadata": {
    "scrolled": true
   },
   "outputs": [
    {
     "data": {
      "text/html": [
       "<div>\n",
       "<style scoped>\n",
       "    .dataframe tbody tr th:only-of-type {\n",
       "        vertical-align: middle;\n",
       "    }\n",
       "\n",
       "    .dataframe tbody tr th {\n",
       "        vertical-align: top;\n",
       "    }\n",
       "\n",
       "    .dataframe thead th {\n",
       "        text-align: right;\n",
       "    }\n",
       "</style>\n",
       "<table border=\"1\" class=\"dataframe\">\n",
       "  <thead>\n",
       "    <tr style=\"text-align: right;\">\n",
       "      <th></th>\n",
       "      <th>win_count</th>\n",
       "      <th>games_played</th>\n",
       "      <th>scores</th>\n",
       "      <th>points_per_game</th>\n",
       "      <th>win_perc</th>\n",
       "    </tr>\n",
       "    <tr>\n",
       "      <th>player</th>\n",
       "      <th></th>\n",
       "      <th></th>\n",
       "      <th></th>\n",
       "      <th></th>\n",
       "      <th></th>\n",
       "    </tr>\n",
       "  </thead>\n",
       "  <tbody>\n",
       "    <tr>\n",
       "      <th>Alperen</th>\n",
       "      <td>12</td>\n",
       "      <td>29</td>\n",
       "      <td>241.0</td>\n",
       "      <td>8.310345</td>\n",
       "      <td>0.413793</td>\n",
       "    </tr>\n",
       "    <tr>\n",
       "      <th>Feyza</th>\n",
       "      <td>3</td>\n",
       "      <td>11</td>\n",
       "      <td>79.0</td>\n",
       "      <td>7.181818</td>\n",
       "      <td>0.272727</td>\n",
       "    </tr>\n",
       "    <tr>\n",
       "      <th>Batuhan</th>\n",
       "      <td>8</td>\n",
       "      <td>33</td>\n",
       "      <td>233.0</td>\n",
       "      <td>7.060606</td>\n",
       "      <td>0.242424</td>\n",
       "    </tr>\n",
       "    <tr>\n",
       "      <th>Ecem</th>\n",
       "      <td>6</td>\n",
       "      <td>26</td>\n",
       "      <td>205.0</td>\n",
       "      <td>7.884615</td>\n",
       "      <td>0.230769</td>\n",
       "    </tr>\n",
       "    <tr>\n",
       "      <th>Çağatay</th>\n",
       "      <td>3</td>\n",
       "      <td>17</td>\n",
       "      <td>129.0</td>\n",
       "      <td>7.588235</td>\n",
       "      <td>0.176471</td>\n",
       "    </tr>\n",
       "    <tr>\n",
       "      <th>Melis</th>\n",
       "      <td>2</td>\n",
       "      <td>16</td>\n",
       "      <td>119.0</td>\n",
       "      <td>7.437500</td>\n",
       "      <td>0.125000</td>\n",
       "    </tr>\n",
       "    <tr>\n",
       "      <th>Canberk</th>\n",
       "      <td>0</td>\n",
       "      <td>3</td>\n",
       "      <td>20.0</td>\n",
       "      <td>6.666667</td>\n",
       "      <td>0.000000</td>\n",
       "    </tr>\n",
       "    <tr>\n",
       "      <th>Volkan</th>\n",
       "      <td>0</td>\n",
       "      <td>4</td>\n",
       "      <td>30.0</td>\n",
       "      <td>7.500000</td>\n",
       "      <td>0.000000</td>\n",
       "    </tr>\n",
       "  </tbody>\n",
       "</table>\n",
       "</div>"
      ],
      "text/plain": [
       "         win_count  games_played  scores  points_per_game  win_perc\n",
       "player                                                             \n",
       "Alperen         12            29   241.0         8.310345  0.413793\n",
       "Feyza            3            11    79.0         7.181818  0.272727\n",
       "Batuhan          8            33   233.0         7.060606  0.242424\n",
       "Ecem             6            26   205.0         7.884615  0.230769\n",
       "Çağatay          3            17   129.0         7.588235  0.176471\n",
       "Melis            2            16   119.0         7.437500  0.125000\n",
       "Canberk          0             3    20.0         6.666667  0.000000\n",
       "Volkan           0             4    30.0         7.500000  0.000000"
      ]
     },
     "execution_count": 36,
     "metadata": {},
     "output_type": "execute_result"
    }
   ],
   "source": [
    "league = pd.DataFrame()\n",
    "league['win_count'] = scores.groupby(by=\"player\")['points'].sum()\n",
    "league['games_played'] = scores.groupby(by=\"player\")['points'].count()\n",
    "league['scores'] = scores.groupby(by=\"player\")['score'].sum()\n",
    "league['points_per_game'] = league['scores'] / league['games_played']\n",
    "league['win_perc'] = league['win_count'] / league['games_played']\n",
    "league.sort_values(by=['win_perc'], ascending=False, inplace=True)\n",
    "\n",
    "league"
   ]
  },
  {
   "cell_type": "markdown",
   "id": "751d8b0e",
   "metadata": {},
   "source": [
    "### Condorcet Method"
   ]
  },
  {
   "cell_type": "code",
   "execution_count": 37,
   "id": "f276d300",
   "metadata": {},
   "outputs": [],
   "source": [
    "def find_ranks_in_game(data: pd.DataFrame, score_col: str) -> pd.DataFrame:\n",
    "    data[\"rank_in_game\"] = data.groupby(\"game_id\")[score_col].rank(\"dense\", ascending=False)\n",
    "    return data"
   ]
  },
  {
   "cell_type": "code",
   "execution_count": 38,
   "id": "fa3637cb",
   "metadata": {},
   "outputs": [],
   "source": [
    "scores = find_ranks_in_game(data=scores, score_col=\"score\") "
   ]
  },
  {
   "cell_type": "code",
   "execution_count": 39,
   "id": "05f1d7ca",
   "metadata": {},
   "outputs": [],
   "source": [
    "import condorcet"
   ]
  },
  {
   "cell_type": "code",
   "execution_count": 40,
   "id": "d2cea8af",
   "metadata": {},
   "outputs": [
    {
     "name": "stdout",
     "output_type": "stream",
     "text": [
      "Candidates are: ['Batuhan', 'Alperen', 'Volkan', 'Melis', 'Feyza', 'Çağatay', 'Ecem', 'Canberk']\n",
      "Winner is: ['Alperen']\n"
     ]
    }
   ],
   "source": [
    "candidates = list(scores.player.unique())\n",
    "print(f\"Candidates are: {candidates}\")\n",
    "votes = []\n",
    "temp = scores[[\"game_id\", \"player\", \"rank_in_game\"]]\n",
    "for game in scores.game_id.unique():\n",
    "    _temp = temp.loc[temp[\"game_id\"] == game]\n",
    "    for player_ in scores.player.unique():\n",
    "        if player_ not in _temp.player.unique():\n",
    "            _temp = _temp.append({'game_id': game, \n",
    "                            'player': player_, 'rank_in_game': 7}, ignore_index = True)\n",
    "    _temp = _temp.set_index(\"player\")\n",
    "    votes.append(_temp.drop(\"game_id\", axis=1).to_dict()[\"rank_in_game\"])\n",
    "evaluator = condorcet.CondorcetEvaluator(candidates=candidates, votes=votes)\n",
    "winners, rest_of_table = evaluator.get_n_winners(1)\n",
    "print(f\"Winner is: {winners}\")"
   ]
  },
  {
   "cell_type": "markdown",
   "id": "a3b5a4ff",
   "metadata": {},
   "source": [
    "### Most occurence by rank in game"
   ]
  },
  {
   "cell_type": "code",
   "execution_count": 41,
   "id": "11e83863",
   "metadata": {
    "scrolled": true
   },
   "outputs": [
    {
     "name": "stdout",
     "output_type": "stream",
     "text": [
      "{'Alperen': 1.0, 'Ecem': 2.0, 'Batuhan': 3.0, 'Çağatay': 4.0}\n"
     ]
    }
   ],
   "source": [
    "data = scores[[\"player\", \"rank_in_game\"]]\n",
    "temp_ = {}\n",
    "delete_users = []\n",
    "for rank_ in data.sort_values(\"rank_in_game\").rank_in_game.unique():\n",
    "    temp = data.loc[(data[\"rank_in_game\"] == rank_) & (~data[\"player\"].isin(delete_users))]\n",
    "    temp[\"count\"] = 1\n",
    "    temp = temp.groupby([\"player\", \"rank_in_game\"]).sum().reset_index()\n",
    "    if len(temp) > 0:\n",
    "        delete_user = list(temp.iloc[temp.groupby(\"rank_in_game\")[\"count\"].idxmax().values].player)[0]\n",
    "        delete_users.append(delete_user)\n",
    "        temp_[delete_user] = rank_\n",
    "print(temp_)"
   ]
  }
 ],
 "metadata": {
  "kernelspec": {
   "display_name": "Python 3 (ipykernel)",
   "language": "python",
   "name": "python3"
  },
  "language_info": {
   "codemirror_mode": {
    "name": "ipython",
    "version": 3
   },
   "file_extension": ".py",
   "mimetype": "text/x-python",
   "name": "python",
   "nbconvert_exporter": "python",
   "pygments_lexer": "ipython3",
   "version": "3.8.12"
  }
 },
 "nbformat": 4,
 "nbformat_minor": 5
}
