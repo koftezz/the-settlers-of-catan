{
 "cells": [
  {
   "cell_type": "code",
   "execution_count": 17,
   "id": "1d26245f",
   "metadata": {},
   "outputs": [],
   "source": [
    "import pandas as pd\n",
    "import numpy as np\n",
    "import copy\n",
    "import matplotlib.pyplot as plt\n",
    "import seaborn as sns\n",
    "\n",
    "import warnings\n",
    "warnings.filterwarnings(\"ignore\")"
   ]
  },
  {
   "cell_type": "code",
   "execution_count": 18,
   "id": "7cfff9a0",
   "metadata": {},
   "outputs": [],
   "source": [
    "raw_scores = pd.read_excel('catan.xlsx', parse_dates=[0])"
   ]
  },
  {
   "cell_type": "code",
   "execution_count": 19,
   "id": "e803f695",
   "metadata": {},
   "outputs": [
    {
     "data": {
      "text/plain": [
       "Index([                'Oyun No',                   'Tarih',\n",
       "                   'Asıl oyuncu',                    'Sıra',\n",
       "                  'Yedek oyuncu',                 'Kazanan',\n",
       "                          'Puan',                    'Renk',\n",
       "                  'Şehir Sayısı',              'Köy Sayısı',\n",
       "                    'Yol Sayısı',    'Gelişim Kartı Sayısı',\n",
       "             'ilk Gelişim Kartı',          'İlk Şehirleşen',\n",
       "                       'İlk Köy',            'Liman Sayısı',\n",
       "       'İlk Hangi Kaynak yanına',                    'Kasa',\n",
       "                          'Süre',               'Extension',\n",
       "                'Başlangıç Saat',             'En Uzun Yol',\n",
       "                       'Şövalye',     'İlk 2-1 Tuğla Liman',\n",
       "            'İlk 2-1 Kaya Liman',     'İlk 2-1 Saman Liman',\n",
       "           'İlk 2-1 Koyun Liman',      'İlk 2-1 Odun Liman',\n",
       "                 'İlk 3-1 Liman',               '2-1 Tuğla',\n",
       "                     '2-1 Saman',       2022-03-01 00:00:00,\n",
       "                      '2-1 Odun',                '2-1 Kaya',\n",
       "                     '2-1 Koyun',                     'Zar',\n",
       "                      'Çöl Yeri'],\n",
       "      dtype='object')"
      ]
     },
     "execution_count": 19,
     "metadata": {},
     "output_type": "execute_result"
    }
   ],
   "source": [
    "raw_scores.columns"
   ]
  },
  {
   "cell_type": "code",
   "execution_count": 20,
   "id": "0af45747",
   "metadata": {},
   "outputs": [],
   "source": [
    "raw_scores.columns = [\"game_id\", \"date\", \"player\", \"rank\", \"substitute_player\", \"winner\", \"score\", \"color\",\n",
    "                        \"num_of_cities\", \"num_of_settlement\", \"num_of_roads\", \"num_of_dev_cards\", \n",
    "                      \"buy_dev_card_first\", \"builds_city_first\", \"builds_settlement_first\", \"num_of_harbor\",\n",
    "                     \"which_resources_first\", \"cashier\", \"time_in_min\", \"is_extension\",\n",
    "                     \"start_time\", \"longest_road\", \"largest_army\", \"first_brick_harbor\",\n",
    "                     \"first_ore_harbor\", \"first_grain_harbor\", \"first_wool_harbor\", \"first_lumber_harbor\",\n",
    "                     \"first_3to1_harbor\", \"num_of_brick_harbor\", \"num_of_grain_harbor\", \"num_of_3to1_harbor\",\n",
    "                     \"num_of_lumber_harbor\", \"num_of_ore_harbor\", \"num_of_wool_harbor\", \"initial_dices\", \"dessert_placement\"]"
   ]
  },
  {
   "cell_type": "code",
   "execution_count": 21,
   "id": "1c2210d3",
   "metadata": {},
   "outputs": [
    {
     "ename": "AttributeError",
     "evalue": "'DataFrame' object has no attribute 'dessert_place'",
     "output_type": "error",
     "traceback": [
      "\u001b[1;31m---------------------------------------------------------------------------\u001b[0m",
      "\u001b[1;31mAttributeError\u001b[0m                            Traceback (most recent call last)",
      "\u001b[1;32mC:\\Users\\BATUHA~1.ORG\\AppData\\Local\\Temp/ipykernel_20936/2265402033.py\u001b[0m in \u001b[0;36m<module>\u001b[1;34m\u001b[0m\n\u001b[1;32m----> 1\u001b[1;33m \u001b[0mraw_scores\u001b[0m\u001b[1;33m.\u001b[0m\u001b[0mdessert_place\u001b[0m\u001b[1;33m.\u001b[0m\u001b[0munique\u001b[0m\u001b[1;33m(\u001b[0m\u001b[1;33m)\u001b[0m\u001b[1;33m\u001b[0m\u001b[1;33m\u001b[0m\u001b[0m\n\u001b[0m",
      "\u001b[1;32mc:\\users\\batuhan.organ\\miniconda3\\lib\\site-packages\\pandas\\core\\generic.py\u001b[0m in \u001b[0;36m__getattr__\u001b[1;34m(self, name)\u001b[0m\n\u001b[0;32m   5485\u001b[0m         ):\n\u001b[0;32m   5486\u001b[0m             \u001b[1;32mreturn\u001b[0m \u001b[0mself\u001b[0m\u001b[1;33m[\u001b[0m\u001b[0mname\u001b[0m\u001b[1;33m]\u001b[0m\u001b[1;33m\u001b[0m\u001b[1;33m\u001b[0m\u001b[0m\n\u001b[1;32m-> 5487\u001b[1;33m         \u001b[1;32mreturn\u001b[0m \u001b[0mobject\u001b[0m\u001b[1;33m.\u001b[0m\u001b[0m__getattribute__\u001b[0m\u001b[1;33m(\u001b[0m\u001b[0mself\u001b[0m\u001b[1;33m,\u001b[0m \u001b[0mname\u001b[0m\u001b[1;33m)\u001b[0m\u001b[1;33m\u001b[0m\u001b[1;33m\u001b[0m\u001b[0m\n\u001b[0m\u001b[0;32m   5488\u001b[0m \u001b[1;33m\u001b[0m\u001b[0m\n\u001b[0;32m   5489\u001b[0m     \u001b[1;32mdef\u001b[0m \u001b[0m__setattr__\u001b[0m\u001b[1;33m(\u001b[0m\u001b[0mself\u001b[0m\u001b[1;33m,\u001b[0m \u001b[0mname\u001b[0m\u001b[1;33m:\u001b[0m \u001b[0mstr\u001b[0m\u001b[1;33m,\u001b[0m \u001b[0mvalue\u001b[0m\u001b[1;33m)\u001b[0m \u001b[1;33m->\u001b[0m \u001b[1;32mNone\u001b[0m\u001b[1;33m:\u001b[0m\u001b[1;33m\u001b[0m\u001b[1;33m\u001b[0m\u001b[0m\n",
      "\u001b[1;31mAttributeError\u001b[0m: 'DataFrame' object has no attribute 'dessert_place'"
     ]
    }
   ],
   "source": [
    "raw_scores.dessert_place.unique()"
   ]
  },
  {
   "cell_type": "code",
   "execution_count": null,
   "id": "60b23249",
   "metadata": {},
   "outputs": [],
   "source": [
    "raw_scores[\"player\"].replace({\"Batuhan\": \"B\",\n",
    "                             \"Alperen\": \"A\",\n",
    "                             \"Feyza\": \"F\",\n",
    "                             \"Ecem\": \"E\",\n",
    "                             \"Canberk\": \"Ck\",\n",
    "                             \"Volkan\": \"V\",\n",
    "                             \"Çağatay\": \"CC\",\n",
    "                             \"Melis\": \"M\",\n",
    "                             \"İzel\": \"I\",\n",
    "                             \"Aysima\": \"Ak\"}, inplace=True)\n",
    "\n",
    "raw_scores[\"substitute_player\"].replace({\"Batuhan\": \"B\",\n",
    "                             \"Alperen\": \"A\",\n",
    "                             \"Feyza\": \"F\",\n",
    "                             \"Ecem\": \"E\",\n",
    "                             \"Canberk\": \"Ck\",\n",
    "                             \"Volkan\": \"V\",\n",
    "                             \"Çağatay\": \"CC\",\n",
    "                             \"Melis\": \"M\",\n",
    "                             \"İzel\": \"I\",\n",
    "                             \"Aysima\": \"Ak\"}, inplace=True)\n",
    "\n",
    "raw_scores[\"winner\"].replace({\"Batuhan\": \"B\",\n",
    "                             \"Alperen\": \"A\",\n",
    "                             \"Feyza\": \"F\",\n",
    "                             \"Ecem\": \"E\",\n",
    "                             \"Canberk\": \"Ck\",\n",
    "                             \"Volkan\": \"V\",\n",
    "                             \"Çağatay\": \"CC\",\n",
    "                             \"Melis\": \"M\",\n",
    "                             \"İzel\": \"I\",\n",
    "                             \"Aysima\": \"Ak\"}, inplace=True)\n",
    "\n",
    "\n",
    "raw_scores[\"color\"].replace({\"Mavi\": \"Blue\",\n",
    "                             \"Kırmızı\": \"Red\",\n",
    "                             \"Yeşil\": \"Green\",\n",
    "                             \"Kahverengi\": \"Brown\",\n",
    "                             \"Beyaz\": \"White\",\n",
    "                             \"Turuncu\": \"Orange\"}, inplace=True)\n",
    "\n",
    "raw_scores[\"dessert_placement\"].replace({'Dış Çember': \"Outer Circle\", 'Orta': \"Middle\", 'Orta Çember': \"Inner Circle\"}, inplace=True)"
   ]
  },
  {
   "cell_type": "code",
   "execution_count": null,
   "id": "d123acbc",
   "metadata": {},
   "outputs": [],
   "source": [
    "d = {\"Tuğla\": \"Brick\",\n",
    "                                             \"Kaya\": \"Ore\",\n",
    "                                             \"Saman\": \"Grain\",\n",
    "                                             \"Odun\": \"Lumber\",\n",
    "                                             \"Koyun\": \"Wool\"}"
   ]
  },
  {
   "cell_type": "code",
   "execution_count": null,
   "id": "5b1eb3b0",
   "metadata": {},
   "outputs": [],
   "source": [
    "full = []\n",
    "for i, row in raw_scores.iterrows():\n",
    "    temp = []\n",
    "    for j in row.which_resources_first.split(\",\"):\n",
    "        j = j.strip()\n",
    "        temp.append(d[j])\n",
    "    full.append(temp)\n",
    "raw_scores[\"which_resources_first\"] = full"
   ]
  },
  {
   "cell_type": "code",
   "execution_count": null,
   "id": "68803451",
   "metadata": {},
   "outputs": [],
   "source": [
    "raw_scores"
   ]
  },
  {
   "cell_type": "code",
   "execution_count": null,
   "id": "efa9daa8",
   "metadata": {},
   "outputs": [],
   "source": [
    "print(raw_scores[\"color\"].unique())\n",
    "print(raw_scores[\"player\"].unique())\n",
    "print(raw_scores[\"player\"].unique())"
   ]
  },
  {
   "cell_type": "code",
   "execution_count": null,
   "id": "c72bade4",
   "metadata": {},
   "outputs": [],
   "source": [
    "raw_scores[\"substitute_player\"].unique()"
   ]
  },
  {
   "cell_type": "code",
   "execution_count": 22,
   "id": "58708c01",
   "metadata": {},
   "outputs": [],
   "source": [
    "raw_scores.to_csv(\"./catan_scores.csv\", index=False)"
   ]
  },
  {
   "cell_type": "code",
   "execution_count": null,
   "id": "7749eb9d",
   "metadata": {},
   "outputs": [],
   "source": []
  }
 ],
 "metadata": {
  "kernelspec": {
   "display_name": "Python 3 (ipykernel)",
   "language": "python",
   "name": "python3"
  },
  "language_info": {
   "codemirror_mode": {
    "name": "ipython",
    "version": 3
   },
   "file_extension": ".py",
   "mimetype": "text/x-python",
   "name": "python",
   "nbconvert_exporter": "python",
   "pygments_lexer": "ipython3",
   "version": "3.8.10"
  }
 },
 "nbformat": 4,
 "nbformat_minor": 5
}
